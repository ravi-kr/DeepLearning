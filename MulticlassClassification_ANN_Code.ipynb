{
  "nbformat": 4,
  "nbformat_minor": 0,
  "metadata": {
    "colab": {
      "name": "MulticlassClassification_ANN_Code.ipynb",
      "provenance": [],
      "collapsed_sections": [],
      "include_colab_link": true
    },
    "kernelspec": {
      "name": "python3",
      "display_name": "Python 3"
    }
  },
  "cells": [
    {
      "cell_type": "markdown",
      "metadata": {
        "id": "view-in-github",
        "colab_type": "text"
      },
      "source": [
        "<a href=\"https://colab.research.google.com/github/ravi-kr/DeepLearning/blob/master/MulticlassClassification_ANN_Code.ipynb\" target=\"_parent\"><img src=\"https://colab.research.google.com/assets/colab-badge.svg\" alt=\"Open In Colab\"/></a>"
      ]
    },
    {
      "cell_type": "code",
      "metadata": {
        "id": "7NDIaTCOsfaY",
        "colab_type": "code",
        "outputId": "d9e118d6-e930-493b-addb-0446f3fdb0a6",
        "colab": {
          "resources": {
            "http://localhost:8080/nbextensions/google.colab/files.js": {
              "data": "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",
              "ok": true,
              "headers": [
                [
                  "content-type",
                  "application/javascript"
                ]
              ],
              "status": 200,
              "status_text": ""
            }
          },
          "base_uri": "https://localhost:8080/",
          "height": 91
        }
      },
      "source": [
        "from google.colab import files\n",
        "\n",
        "uploaded = files.upload()\n",
        "\n",
        "for fn in uploaded.keys():\n",
        "  print('User uploaded file \"{name}\" with length {length} bytes'.format(\n",
        "      name=fn, length=len(uploaded[fn])))"
      ],
      "execution_count": 1,
      "outputs": [
        {
          "output_type": "display_data",
          "data": {
            "text/html": [
              "\n",
              "     <input type=\"file\" id=\"files-3b6c7e0d-c0af-469f-a021-310a27aaf181\" name=\"files[]\" multiple disabled />\n",
              "     <output id=\"result-3b6c7e0d-c0af-469f-a021-310a27aaf181\">\n",
              "      Upload widget is only available when the cell has been executed in the\n",
              "      current browser session. Please rerun this cell to enable.\n",
              "      </output>\n",
              "      <script src=\"/nbextensions/google.colab/files.js\"></script> "
            ],
            "text/plain": [
              "<IPython.core.display.HTML object>"
            ]
          },
          "metadata": {
            "tags": []
          }
        },
        {
          "output_type": "stream",
          "text": [
            "Saving MulticlassClassification_ANN_Data.csv to MulticlassClassification_ANN_Data.csv\n",
            "User uploaded file \"MulticlassClassification_ANN_Data.csv\" with length 4551 bytes\n"
          ],
          "name": "stdout"
        }
      ]
    },
    {
      "cell_type": "code",
      "metadata": {
        "id": "OrG8C_7LsoD2",
        "colab_type": "code",
        "outputId": "4ec89437-f861-4412-9a20-165a5ae46b20",
        "colab": {
          "base_uri": "https://localhost:8080/",
          "height": 204
        }
      },
      "source": [
        "import pandas as pd\n",
        "import io\n",
        "data=pd.read_csv(io.StringIO(uploaded['MulticlassClassification_ANN_Data.csv'].decode('utf-8')))\n",
        "data.head()"
      ],
      "execution_count": 2,
      "outputs": [
        {
          "output_type": "execute_result",
          "data": {
            "text/html": [
              "<div>\n",
              "<style scoped>\n",
              "    .dataframe tbody tr th:only-of-type {\n",
              "        vertical-align: middle;\n",
              "    }\n",
              "\n",
              "    .dataframe tbody tr th {\n",
              "        vertical-align: top;\n",
              "    }\n",
              "\n",
              "    .dataframe thead th {\n",
              "        text-align: right;\n",
              "    }\n",
              "</style>\n",
              "<table border=\"1\" class=\"dataframe\">\n",
              "  <thead>\n",
              "    <tr style=\"text-align: right;\">\n",
              "      <th></th>\n",
              "      <th>5.1</th>\n",
              "      <th>3.5</th>\n",
              "      <th>1.4</th>\n",
              "      <th>0.2</th>\n",
              "      <th>Iris-setosa</th>\n",
              "    </tr>\n",
              "  </thead>\n",
              "  <tbody>\n",
              "    <tr>\n",
              "      <th>0</th>\n",
              "      <td>4.9</td>\n",
              "      <td>3.0</td>\n",
              "      <td>1.4</td>\n",
              "      <td>0.2</td>\n",
              "      <td>Iris-setosa</td>\n",
              "    </tr>\n",
              "    <tr>\n",
              "      <th>1</th>\n",
              "      <td>4.7</td>\n",
              "      <td>3.2</td>\n",
              "      <td>1.3</td>\n",
              "      <td>0.2</td>\n",
              "      <td>Iris-setosa</td>\n",
              "    </tr>\n",
              "    <tr>\n",
              "      <th>2</th>\n",
              "      <td>4.6</td>\n",
              "      <td>3.1</td>\n",
              "      <td>1.5</td>\n",
              "      <td>0.2</td>\n",
              "      <td>Iris-setosa</td>\n",
              "    </tr>\n",
              "    <tr>\n",
              "      <th>3</th>\n",
              "      <td>5.0</td>\n",
              "      <td>3.6</td>\n",
              "      <td>1.4</td>\n",
              "      <td>0.2</td>\n",
              "      <td>Iris-setosa</td>\n",
              "    </tr>\n",
              "    <tr>\n",
              "      <th>4</th>\n",
              "      <td>5.4</td>\n",
              "      <td>3.9</td>\n",
              "      <td>1.7</td>\n",
              "      <td>0.4</td>\n",
              "      <td>Iris-setosa</td>\n",
              "    </tr>\n",
              "  </tbody>\n",
              "</table>\n",
              "</div>"
            ],
            "text/plain": [
              "   5.1  3.5  1.4  0.2  Iris-setosa\n",
              "0  4.9  3.0  1.4  0.2  Iris-setosa\n",
              "1  4.7  3.2  1.3  0.2  Iris-setosa\n",
              "2  4.6  3.1  1.5  0.2  Iris-setosa\n",
              "3  5.0  3.6  1.4  0.2  Iris-setosa\n",
              "4  5.4  3.9  1.7  0.4  Iris-setosa"
            ]
          },
          "metadata": {
            "tags": []
          },
          "execution_count": 2
        }
      ]
    },
    {
      "cell_type": "code",
      "metadata": {
        "id": "p7hv79aFsoXl",
        "colab_type": "code",
        "colab": {
          "base_uri": "https://localhost:8080/",
          "height": 88
        },
        "outputId": "4dc6d912-b8a7-4c86-b8e8-6eeb683e5541"
      },
      "source": [
        "import keras\n",
        "from keras.models import Sequential\n",
        "from keras.layers import Dense\n",
        "from keras.optimizers import Adam\n",
        "import pydot\n",
        "import graphviz\n",
        "from IPython.display import SVG\n",
        "from keras.utils.vis_utils import model_to_dot\n",
        "from keras.utils import plot_model\n",
        "import seaborn as sns\n",
        "import pandas as pd\n",
        "import numpy as np"
      ],
      "execution_count": 3,
      "outputs": [
        {
          "output_type": "stream",
          "text": [
            "Using TensorFlow backend.\n",
            "/usr/local/lib/python3.6/dist-packages/statsmodels/tools/_testing.py:19: FutureWarning: pandas.util.testing is deprecated. Use the functions in the public API at pandas.testing instead.\n",
            "  import pandas.util.testing as tm\n"
          ],
          "name": "stderr"
        }
      ]
    },
    {
      "cell_type": "code",
      "metadata": {
        "id": "Vj1-yeLwsoe3",
        "colab_type": "code",
        "outputId": "fe0ed96a-4773-40c8-ab9a-56c14c9126f4",
        "colab": {
          "base_uri": "https://localhost:8080/",
          "height": 419
        }
      },
      "source": [
        "dataset = pd.read_csv(\"MulticlassClassification_ANN_Data.csv\")\n",
        "dataset"
      ],
      "execution_count": 4,
      "outputs": [
        {
          "output_type": "execute_result",
          "data": {
            "text/html": [
              "<div>\n",
              "<style scoped>\n",
              "    .dataframe tbody tr th:only-of-type {\n",
              "        vertical-align: middle;\n",
              "    }\n",
              "\n",
              "    .dataframe tbody tr th {\n",
              "        vertical-align: top;\n",
              "    }\n",
              "\n",
              "    .dataframe thead th {\n",
              "        text-align: right;\n",
              "    }\n",
              "</style>\n",
              "<table border=\"1\" class=\"dataframe\">\n",
              "  <thead>\n",
              "    <tr style=\"text-align: right;\">\n",
              "      <th></th>\n",
              "      <th>5.1</th>\n",
              "      <th>3.5</th>\n",
              "      <th>1.4</th>\n",
              "      <th>0.2</th>\n",
              "      <th>Iris-setosa</th>\n",
              "    </tr>\n",
              "  </thead>\n",
              "  <tbody>\n",
              "    <tr>\n",
              "      <th>0</th>\n",
              "      <td>4.9</td>\n",
              "      <td>3.0</td>\n",
              "      <td>1.4</td>\n",
              "      <td>0.2</td>\n",
              "      <td>Iris-setosa</td>\n",
              "    </tr>\n",
              "    <tr>\n",
              "      <th>1</th>\n",
              "      <td>4.7</td>\n",
              "      <td>3.2</td>\n",
              "      <td>1.3</td>\n",
              "      <td>0.2</td>\n",
              "      <td>Iris-setosa</td>\n",
              "    </tr>\n",
              "    <tr>\n",
              "      <th>2</th>\n",
              "      <td>4.6</td>\n",
              "      <td>3.1</td>\n",
              "      <td>1.5</td>\n",
              "      <td>0.2</td>\n",
              "      <td>Iris-setosa</td>\n",
              "    </tr>\n",
              "    <tr>\n",
              "      <th>3</th>\n",
              "      <td>5.0</td>\n",
              "      <td>3.6</td>\n",
              "      <td>1.4</td>\n",
              "      <td>0.2</td>\n",
              "      <td>Iris-setosa</td>\n",
              "    </tr>\n",
              "    <tr>\n",
              "      <th>4</th>\n",
              "      <td>5.4</td>\n",
              "      <td>3.9</td>\n",
              "      <td>1.7</td>\n",
              "      <td>0.4</td>\n",
              "      <td>Iris-setosa</td>\n",
              "    </tr>\n",
              "    <tr>\n",
              "      <th>...</th>\n",
              "      <td>...</td>\n",
              "      <td>...</td>\n",
              "      <td>...</td>\n",
              "      <td>...</td>\n",
              "      <td>...</td>\n",
              "    </tr>\n",
              "    <tr>\n",
              "      <th>144</th>\n",
              "      <td>6.7</td>\n",
              "      <td>3.0</td>\n",
              "      <td>5.2</td>\n",
              "      <td>2.3</td>\n",
              "      <td>Iris-virginica</td>\n",
              "    </tr>\n",
              "    <tr>\n",
              "      <th>145</th>\n",
              "      <td>6.3</td>\n",
              "      <td>2.5</td>\n",
              "      <td>5.0</td>\n",
              "      <td>1.9</td>\n",
              "      <td>Iris-virginica</td>\n",
              "    </tr>\n",
              "    <tr>\n",
              "      <th>146</th>\n",
              "      <td>6.5</td>\n",
              "      <td>3.0</td>\n",
              "      <td>5.2</td>\n",
              "      <td>2.0</td>\n",
              "      <td>Iris-virginica</td>\n",
              "    </tr>\n",
              "    <tr>\n",
              "      <th>147</th>\n",
              "      <td>6.2</td>\n",
              "      <td>3.4</td>\n",
              "      <td>5.4</td>\n",
              "      <td>2.3</td>\n",
              "      <td>Iris-virginica</td>\n",
              "    </tr>\n",
              "    <tr>\n",
              "      <th>148</th>\n",
              "      <td>5.9</td>\n",
              "      <td>3.0</td>\n",
              "      <td>5.1</td>\n",
              "      <td>1.8</td>\n",
              "      <td>Iris-virginica</td>\n",
              "    </tr>\n",
              "  </tbody>\n",
              "</table>\n",
              "<p>149 rows × 5 columns</p>\n",
              "</div>"
            ],
            "text/plain": [
              "     5.1  3.5  1.4  0.2     Iris-setosa\n",
              "0    4.9  3.0  1.4  0.2     Iris-setosa\n",
              "1    4.7  3.2  1.3  0.2     Iris-setosa\n",
              "2    4.6  3.1  1.5  0.2     Iris-setosa\n",
              "3    5.0  3.6  1.4  0.2     Iris-setosa\n",
              "4    5.4  3.9  1.7  0.4     Iris-setosa\n",
              "..   ...  ...  ...  ...             ...\n",
              "144  6.7  3.0  5.2  2.3  Iris-virginica\n",
              "145  6.3  2.5  5.0  1.9  Iris-virginica\n",
              "146  6.5  3.0  5.2  2.0  Iris-virginica\n",
              "147  6.2  3.4  5.4  2.3  Iris-virginica\n",
              "148  5.9  3.0  5.1  1.8  Iris-virginica\n",
              "\n",
              "[149 rows x 5 columns]"
            ]
          },
          "metadata": {
            "tags": []
          },
          "execution_count": 4
        }
      ]
    },
    {
      "cell_type": "code",
      "metadata": {
        "id": "moC7ISYDsoku",
        "colab_type": "code",
        "colab": {}
      },
      "source": [
        "X = dataset.iloc[:,0:4].values\n",
        "y = dataset.iloc[:,4].values\n",
        "\n",
        "from sklearn.preprocessing import LabelEncoder\n",
        "encoder =  LabelEncoder()\n",
        "y1 = encoder.fit_transform(y)\n",
        "y = pd.get_dummies(y1).values\n",
        "\n",
        "from sklearn.model_selection import train_test_split\n",
        "X_train, X_test, y_train, y_test = train_test_split(X,y,test_size=0.2,random_state=0)"
      ],
      "execution_count": 0,
      "outputs": []
    },
    {
      "cell_type": "code",
      "metadata": {
        "id": "yq9RfsdUwR5U",
        "colab_type": "code",
        "outputId": "83674b9b-44ce-4071-8b4e-9c2cca002d55",
        "colab": {
          "base_uri": "https://localhost:8080/",
          "height": 136
        }
      },
      "source": [
        "y1"
      ],
      "execution_count": 6,
      "outputs": [
        {
          "output_type": "execute_result",
          "data": {
            "text/plain": [
              "array([0, 0, 0, 0, 0, 0, 0, 0, 0, 0, 0, 0, 0, 0, 0, 0, 0, 0, 0, 0, 0, 0,\n",
              "       0, 0, 0, 0, 0, 0, 0, 0, 0, 0, 0, 0, 0, 0, 0, 0, 0, 0, 0, 0, 0, 0,\n",
              "       0, 0, 0, 0, 0, 1, 1, 1, 1, 1, 1, 1, 1, 1, 1, 1, 1, 1, 1, 1, 1, 1,\n",
              "       1, 1, 1, 1, 1, 1, 1, 1, 1, 1, 1, 1, 1, 1, 1, 1, 1, 1, 1, 1, 1, 1,\n",
              "       1, 1, 1, 1, 1, 1, 1, 1, 1, 1, 1, 2, 2, 2, 2, 2, 2, 2, 2, 2, 2, 2,\n",
              "       2, 2, 2, 2, 2, 2, 2, 2, 2, 2, 2, 2, 2, 2, 2, 2, 2, 2, 2, 2, 2, 2,\n",
              "       2, 2, 2, 2, 2, 2, 2, 2, 2, 2, 2, 2, 2, 2, 2, 2, 2])"
            ]
          },
          "metadata": {
            "tags": []
          },
          "execution_count": 6
        }
      ]
    },
    {
      "cell_type": "code",
      "metadata": {
        "id": "KtRIeS9rwSKJ",
        "colab_type": "code",
        "outputId": "f226319a-fbfc-4f0a-f1eb-ee2ef6aa317e",
        "colab": {
          "base_uri": "https://localhost:8080/",
          "height": 1000
        }
      },
      "source": [
        "y"
      ],
      "execution_count": 7,
      "outputs": [
        {
          "output_type": "execute_result",
          "data": {
            "text/plain": [
              "array([[1, 0, 0],\n",
              "       [1, 0, 0],\n",
              "       [1, 0, 0],\n",
              "       [1, 0, 0],\n",
              "       [1, 0, 0],\n",
              "       [1, 0, 0],\n",
              "       [1, 0, 0],\n",
              "       [1, 0, 0],\n",
              "       [1, 0, 0],\n",
              "       [1, 0, 0],\n",
              "       [1, 0, 0],\n",
              "       [1, 0, 0],\n",
              "       [1, 0, 0],\n",
              "       [1, 0, 0],\n",
              "       [1, 0, 0],\n",
              "       [1, 0, 0],\n",
              "       [1, 0, 0],\n",
              "       [1, 0, 0],\n",
              "       [1, 0, 0],\n",
              "       [1, 0, 0],\n",
              "       [1, 0, 0],\n",
              "       [1, 0, 0],\n",
              "       [1, 0, 0],\n",
              "       [1, 0, 0],\n",
              "       [1, 0, 0],\n",
              "       [1, 0, 0],\n",
              "       [1, 0, 0],\n",
              "       [1, 0, 0],\n",
              "       [1, 0, 0],\n",
              "       [1, 0, 0],\n",
              "       [1, 0, 0],\n",
              "       [1, 0, 0],\n",
              "       [1, 0, 0],\n",
              "       [1, 0, 0],\n",
              "       [1, 0, 0],\n",
              "       [1, 0, 0],\n",
              "       [1, 0, 0],\n",
              "       [1, 0, 0],\n",
              "       [1, 0, 0],\n",
              "       [1, 0, 0],\n",
              "       [1, 0, 0],\n",
              "       [1, 0, 0],\n",
              "       [1, 0, 0],\n",
              "       [1, 0, 0],\n",
              "       [1, 0, 0],\n",
              "       [1, 0, 0],\n",
              "       [1, 0, 0],\n",
              "       [1, 0, 0],\n",
              "       [1, 0, 0],\n",
              "       [0, 1, 0],\n",
              "       [0, 1, 0],\n",
              "       [0, 1, 0],\n",
              "       [0, 1, 0],\n",
              "       [0, 1, 0],\n",
              "       [0, 1, 0],\n",
              "       [0, 1, 0],\n",
              "       [0, 1, 0],\n",
              "       [0, 1, 0],\n",
              "       [0, 1, 0],\n",
              "       [0, 1, 0],\n",
              "       [0, 1, 0],\n",
              "       [0, 1, 0],\n",
              "       [0, 1, 0],\n",
              "       [0, 1, 0],\n",
              "       [0, 1, 0],\n",
              "       [0, 1, 0],\n",
              "       [0, 1, 0],\n",
              "       [0, 1, 0],\n",
              "       [0, 1, 0],\n",
              "       [0, 1, 0],\n",
              "       [0, 1, 0],\n",
              "       [0, 1, 0],\n",
              "       [0, 1, 0],\n",
              "       [0, 1, 0],\n",
              "       [0, 1, 0],\n",
              "       [0, 1, 0],\n",
              "       [0, 1, 0],\n",
              "       [0, 1, 0],\n",
              "       [0, 1, 0],\n",
              "       [0, 1, 0],\n",
              "       [0, 1, 0],\n",
              "       [0, 1, 0],\n",
              "       [0, 1, 0],\n",
              "       [0, 1, 0],\n",
              "       [0, 1, 0],\n",
              "       [0, 1, 0],\n",
              "       [0, 1, 0],\n",
              "       [0, 1, 0],\n",
              "       [0, 1, 0],\n",
              "       [0, 1, 0],\n",
              "       [0, 1, 0],\n",
              "       [0, 1, 0],\n",
              "       [0, 1, 0],\n",
              "       [0, 1, 0],\n",
              "       [0, 1, 0],\n",
              "       [0, 1, 0],\n",
              "       [0, 1, 0],\n",
              "       [0, 1, 0],\n",
              "       [0, 1, 0],\n",
              "       [0, 0, 1],\n",
              "       [0, 0, 1],\n",
              "       [0, 0, 1],\n",
              "       [0, 0, 1],\n",
              "       [0, 0, 1],\n",
              "       [0, 0, 1],\n",
              "       [0, 0, 1],\n",
              "       [0, 0, 1],\n",
              "       [0, 0, 1],\n",
              "       [0, 0, 1],\n",
              "       [0, 0, 1],\n",
              "       [0, 0, 1],\n",
              "       [0, 0, 1],\n",
              "       [0, 0, 1],\n",
              "       [0, 0, 1],\n",
              "       [0, 0, 1],\n",
              "       [0, 0, 1],\n",
              "       [0, 0, 1],\n",
              "       [0, 0, 1],\n",
              "       [0, 0, 1],\n",
              "       [0, 0, 1],\n",
              "       [0, 0, 1],\n",
              "       [0, 0, 1],\n",
              "       [0, 0, 1],\n",
              "       [0, 0, 1],\n",
              "       [0, 0, 1],\n",
              "       [0, 0, 1],\n",
              "       [0, 0, 1],\n",
              "       [0, 0, 1],\n",
              "       [0, 0, 1],\n",
              "       [0, 0, 1],\n",
              "       [0, 0, 1],\n",
              "       [0, 0, 1],\n",
              "       [0, 0, 1],\n",
              "       [0, 0, 1],\n",
              "       [0, 0, 1],\n",
              "       [0, 0, 1],\n",
              "       [0, 0, 1],\n",
              "       [0, 0, 1],\n",
              "       [0, 0, 1],\n",
              "       [0, 0, 1],\n",
              "       [0, 0, 1],\n",
              "       [0, 0, 1],\n",
              "       [0, 0, 1],\n",
              "       [0, 0, 1],\n",
              "       [0, 0, 1],\n",
              "       [0, 0, 1],\n",
              "       [0, 0, 1],\n",
              "       [0, 0, 1],\n",
              "       [0, 0, 1]], dtype=uint8)"
            ]
          },
          "metadata": {
            "tags": []
          },
          "execution_count": 7
        }
      ]
    },
    {
      "cell_type": "code",
      "metadata": {
        "id": "KZ8X63HVswnh",
        "colab_type": "code",
        "colab": {}
      },
      "source": [
        "model = Sequential()\n",
        "\n",
        "model.add(Dense(4,input_shape=(4,), activation='relu'))\n",
        "\n",
        "model.add(Dense(3, activation='softmax'))\n"
      ],
      "execution_count": 0,
      "outputs": []
    },
    {
      "cell_type": "code",
      "metadata": {
        "id": "6QDB8sznsw1h",
        "colab_type": "code",
        "colab": {}
      },
      "source": [
        "model.compile(optimizer=\"Adam\", loss='categorical_crossentropy', metrics=['accuracy'])"
      ],
      "execution_count": 0,
      "outputs": []
    },
    {
      "cell_type": "code",
      "metadata": {
        "id": "Rs1GTTaTsxCQ",
        "colab_type": "code",
        "outputId": "252e5a89-513b-4b09-c8e4-290165bda06e",
        "colab": {
          "base_uri": "https://localhost:8080/",
          "height": 1000
        }
      },
      "source": [
        "model.fit(X_train, y_train, batch_size=10, nb_epoch=100)"
      ],
      "execution_count": 10,
      "outputs": [
        {
          "output_type": "stream",
          "text": [
            "/usr/local/lib/python3.6/dist-packages/ipykernel_launcher.py:1: UserWarning: The `nb_epoch` argument in `fit` has been renamed `epochs`.\n",
            "  \"\"\"Entry point for launching an IPython kernel.\n"
          ],
          "name": "stderr"
        },
        {
          "output_type": "stream",
          "text": [
            "Epoch 1/100\n",
            "119/119 [==============================] - 0s 3ms/step - loss: 3.0174 - accuracy: 0.6218\n",
            "Epoch 2/100\n",
            "119/119 [==============================] - 0s 148us/step - loss: 2.8021 - accuracy: 0.6303\n",
            "Epoch 3/100\n",
            "119/119 [==============================] - 0s 135us/step - loss: 2.6026 - accuracy: 0.6303\n",
            "Epoch 4/100\n",
            "119/119 [==============================] - 0s 127us/step - loss: 2.4256 - accuracy: 0.6303\n",
            "Epoch 5/100\n",
            "119/119 [==============================] - 0s 115us/step - loss: 2.2764 - accuracy: 0.6303\n",
            "Epoch 6/100\n",
            "119/119 [==============================] - 0s 130us/step - loss: 2.1584 - accuracy: 0.6303\n",
            "Epoch 7/100\n",
            "119/119 [==============================] - 0s 131us/step - loss: 2.0524 - accuracy: 0.6303\n",
            "Epoch 8/100\n",
            "119/119 [==============================] - 0s 130us/step - loss: 1.9584 - accuracy: 0.6303\n",
            "Epoch 9/100\n",
            "119/119 [==============================] - 0s 115us/step - loss: 1.8590 - accuracy: 0.6303\n",
            "Epoch 10/100\n",
            "119/119 [==============================] - 0s 126us/step - loss: 1.7787 - accuracy: 0.6303\n",
            "Epoch 11/100\n",
            "119/119 [==============================] - 0s 141us/step - loss: 1.6926 - accuracy: 0.6303\n",
            "Epoch 12/100\n",
            "119/119 [==============================] - 0s 114us/step - loss: 1.6185 - accuracy: 0.6303\n",
            "Epoch 13/100\n",
            "119/119 [==============================] - 0s 154us/step - loss: 1.5445 - accuracy: 0.6303\n",
            "Epoch 14/100\n",
            "119/119 [==============================] - 0s 144us/step - loss: 1.4791 - accuracy: 0.6303\n",
            "Epoch 15/100\n",
            "119/119 [==============================] - 0s 143us/step - loss: 1.4158 - accuracy: 0.6218\n",
            "Epoch 16/100\n",
            "119/119 [==============================] - 0s 186us/step - loss: 1.3564 - accuracy: 0.6218\n",
            "Epoch 17/100\n",
            "119/119 [==============================] - 0s 176us/step - loss: 1.3019 - accuracy: 0.6218\n",
            "Epoch 18/100\n",
            "119/119 [==============================] - 0s 133us/step - loss: 1.2511 - accuracy: 0.6050\n",
            "Epoch 19/100\n",
            "119/119 [==============================] - 0s 139us/step - loss: 1.2031 - accuracy: 0.5966\n",
            "Epoch 20/100\n",
            "119/119 [==============================] - 0s 146us/step - loss: 1.1607 - accuracy: 0.5966\n",
            "Epoch 21/100\n",
            "119/119 [==============================] - 0s 149us/step - loss: 1.1202 - accuracy: 0.5966\n",
            "Epoch 22/100\n",
            "119/119 [==============================] - 0s 151us/step - loss: 1.0844 - accuracy: 0.5714\n",
            "Epoch 23/100\n",
            "119/119 [==============================] - 0s 139us/step - loss: 1.0540 - accuracy: 0.5546\n",
            "Epoch 24/100\n",
            "119/119 [==============================] - 0s 126us/step - loss: 1.0201 - accuracy: 0.5546\n",
            "Epoch 25/100\n",
            "119/119 [==============================] - 0s 124us/step - loss: 0.9915 - accuracy: 0.5546\n",
            "Epoch 26/100\n",
            "119/119 [==============================] - 0s 123us/step - loss: 0.9681 - accuracy: 0.5546\n",
            "Epoch 27/100\n",
            "119/119 [==============================] - 0s 129us/step - loss: 0.9435 - accuracy: 0.5546\n",
            "Epoch 28/100\n",
            "119/119 [==============================] - 0s 139us/step - loss: 0.9213 - accuracy: 0.5546\n",
            "Epoch 29/100\n",
            "119/119 [==============================] - 0s 131us/step - loss: 0.9021 - accuracy: 0.5462\n",
            "Epoch 30/100\n",
            "119/119 [==============================] - 0s 126us/step - loss: 0.8843 - accuracy: 0.5210\n",
            "Epoch 31/100\n",
            "119/119 [==============================] - 0s 168us/step - loss: 0.8702 - accuracy: 0.5042\n",
            "Epoch 32/100\n",
            "119/119 [==============================] - 0s 126us/step - loss: 0.8528 - accuracy: 0.5042\n",
            "Epoch 33/100\n",
            "119/119 [==============================] - 0s 140us/step - loss: 0.8405 - accuracy: 0.5042\n",
            "Epoch 34/100\n",
            "119/119 [==============================] - 0s 125us/step - loss: 0.8275 - accuracy: 0.4958\n",
            "Epoch 35/100\n",
            "119/119 [==============================] - 0s 123us/step - loss: 0.8167 - accuracy: 0.4790\n",
            "Epoch 36/100\n",
            "119/119 [==============================] - 0s 120us/step - loss: 0.8057 - accuracy: 0.4790\n",
            "Epoch 37/100\n",
            "119/119 [==============================] - 0s 139us/step - loss: 0.7959 - accuracy: 0.4706\n",
            "Epoch 38/100\n",
            "119/119 [==============================] - 0s 134us/step - loss: 0.7871 - accuracy: 0.4706\n",
            "Epoch 39/100\n",
            "119/119 [==============================] - 0s 135us/step - loss: 0.7785 - accuracy: 0.4706\n",
            "Epoch 40/100\n",
            "119/119 [==============================] - 0s 142us/step - loss: 0.7705 - accuracy: 0.4958\n",
            "Epoch 41/100\n",
            "119/119 [==============================] - 0s 130us/step - loss: 0.7634 - accuracy: 0.4958\n",
            "Epoch 42/100\n",
            "119/119 [==============================] - 0s 158us/step - loss: 0.7561 - accuracy: 0.5042\n",
            "Epoch 43/100\n",
            "119/119 [==============================] - 0s 147us/step - loss: 0.7497 - accuracy: 0.5462\n",
            "Epoch 44/100\n",
            "119/119 [==============================] - 0s 121us/step - loss: 0.7438 - accuracy: 0.5546\n",
            "Epoch 45/100\n",
            "119/119 [==============================] - 0s 136us/step - loss: 0.7374 - accuracy: 0.6050\n",
            "Epoch 46/100\n",
            "119/119 [==============================] - 0s 155us/step - loss: 0.7321 - accuracy: 0.6387\n",
            "Epoch 47/100\n",
            "119/119 [==============================] - 0s 179us/step - loss: 0.7266 - accuracy: 0.6807\n",
            "Epoch 48/100\n",
            "119/119 [==============================] - 0s 133us/step - loss: 0.7216 - accuracy: 0.7059\n",
            "Epoch 49/100\n",
            "119/119 [==============================] - 0s 136us/step - loss: 0.7169 - accuracy: 0.7227\n",
            "Epoch 50/100\n",
            "119/119 [==============================] - 0s 166us/step - loss: 0.7122 - accuracy: 0.7311\n",
            "Epoch 51/100\n",
            "119/119 [==============================] - 0s 162us/step - loss: 0.7077 - accuracy: 0.7395\n",
            "Epoch 52/100\n",
            "119/119 [==============================] - 0s 146us/step - loss: 0.7031 - accuracy: 0.7311\n",
            "Epoch 53/100\n",
            "119/119 [==============================] - 0s 155us/step - loss: 0.6990 - accuracy: 0.7227\n",
            "Epoch 54/100\n",
            "119/119 [==============================] - 0s 150us/step - loss: 0.6947 - accuracy: 0.7227\n",
            "Epoch 55/100\n",
            "119/119 [==============================] - 0s 132us/step - loss: 0.6907 - accuracy: 0.7311\n",
            "Epoch 56/100\n",
            "119/119 [==============================] - 0s 134us/step - loss: 0.6867 - accuracy: 0.7311\n",
            "Epoch 57/100\n",
            "119/119 [==============================] - 0s 148us/step - loss: 0.6829 - accuracy: 0.7227\n",
            "Epoch 58/100\n",
            "119/119 [==============================] - 0s 138us/step - loss: 0.6792 - accuracy: 0.7311\n",
            "Epoch 59/100\n",
            "119/119 [==============================] - 0s 147us/step - loss: 0.6752 - accuracy: 0.7395\n",
            "Epoch 60/100\n",
            "119/119 [==============================] - 0s 141us/step - loss: 0.6717 - accuracy: 0.7395\n",
            "Epoch 61/100\n",
            "119/119 [==============================] - 0s 156us/step - loss: 0.6681 - accuracy: 0.7395\n",
            "Epoch 62/100\n",
            "119/119 [==============================] - 0s 153us/step - loss: 0.6646 - accuracy: 0.7479\n",
            "Epoch 63/100\n",
            "119/119 [==============================] - 0s 129us/step - loss: 0.6611 - accuracy: 0.7479\n",
            "Epoch 64/100\n",
            "119/119 [==============================] - 0s 150us/step - loss: 0.6580 - accuracy: 0.7647\n",
            "Epoch 65/100\n",
            "119/119 [==============================] - 0s 176us/step - loss: 0.6543 - accuracy: 0.7647\n",
            "Epoch 66/100\n",
            "119/119 [==============================] - 0s 130us/step - loss: 0.6509 - accuracy: 0.7731\n",
            "Epoch 67/100\n",
            "119/119 [==============================] - 0s 148us/step - loss: 0.6475 - accuracy: 0.7731\n",
            "Epoch 68/100\n",
            "119/119 [==============================] - 0s 231us/step - loss: 0.6442 - accuracy: 0.7731\n",
            "Epoch 69/100\n",
            "119/119 [==============================] - 0s 134us/step - loss: 0.6407 - accuracy: 0.7815\n",
            "Epoch 70/100\n",
            "119/119 [==============================] - 0s 141us/step - loss: 0.6375 - accuracy: 0.7899\n",
            "Epoch 71/100\n",
            "119/119 [==============================] - 0s 158us/step - loss: 0.6338 - accuracy: 0.7815\n",
            "Epoch 72/100\n",
            "119/119 [==============================] - 0s 141us/step - loss: 0.6301 - accuracy: 0.7815\n",
            "Epoch 73/100\n",
            "119/119 [==============================] - 0s 166us/step - loss: 0.6268 - accuracy: 0.7983\n",
            "Epoch 74/100\n",
            "119/119 [==============================] - 0s 149us/step - loss: 0.6216 - accuracy: 0.7983\n",
            "Epoch 75/100\n",
            "119/119 [==============================] - 0s 140us/step - loss: 0.6170 - accuracy: 0.7899\n",
            "Epoch 76/100\n",
            "119/119 [==============================] - 0s 155us/step - loss: 0.6125 - accuracy: 0.8151\n",
            "Epoch 77/100\n",
            "119/119 [==============================] - 0s 157us/step - loss: 0.6070 - accuracy: 0.8067\n",
            "Epoch 78/100\n",
            "119/119 [==============================] - 0s 158us/step - loss: 0.6029 - accuracy: 0.8067\n",
            "Epoch 79/100\n",
            "119/119 [==============================] - 0s 177us/step - loss: 0.5990 - accuracy: 0.8151\n",
            "Epoch 80/100\n",
            "119/119 [==============================] - 0s 195us/step - loss: 0.5952 - accuracy: 0.8151\n",
            "Epoch 81/100\n",
            "119/119 [==============================] - 0s 150us/step - loss: 0.5917 - accuracy: 0.8319\n",
            "Epoch 82/100\n",
            "119/119 [==============================] - 0s 140us/step - loss: 0.5889 - accuracy: 0.8319\n",
            "Epoch 83/100\n",
            "119/119 [==============================] - 0s 128us/step - loss: 0.5857 - accuracy: 0.8319\n",
            "Epoch 84/100\n",
            "119/119 [==============================] - 0s 137us/step - loss: 0.5829 - accuracy: 0.8319\n",
            "Epoch 85/100\n",
            "119/119 [==============================] - 0s 146us/step - loss: 0.5801 - accuracy: 0.8571\n",
            "Epoch 86/100\n",
            "119/119 [==============================] - 0s 131us/step - loss: 0.5778 - accuracy: 0.8571\n",
            "Epoch 87/100\n",
            "119/119 [==============================] - 0s 133us/step - loss: 0.5752 - accuracy: 0.8655\n",
            "Epoch 88/100\n",
            "119/119 [==============================] - 0s 157us/step - loss: 0.5726 - accuracy: 0.8739\n",
            "Epoch 89/100\n",
            "119/119 [==============================] - 0s 151us/step - loss: 0.5703 - accuracy: 0.8739\n",
            "Epoch 90/100\n",
            "119/119 [==============================] - 0s 141us/step - loss: 0.5674 - accuracy: 0.8739\n",
            "Epoch 91/100\n",
            "119/119 [==============================] - 0s 155us/step - loss: 0.5652 - accuracy: 0.8824\n",
            "Epoch 92/100\n",
            "119/119 [==============================] - 0s 164us/step - loss: 0.5624 - accuracy: 0.8824\n",
            "Epoch 93/100\n",
            "119/119 [==============================] - 0s 135us/step - loss: 0.5604 - accuracy: 0.8739\n",
            "Epoch 94/100\n",
            "119/119 [==============================] - 0s 202us/step - loss: 0.5575 - accuracy: 0.8739\n",
            "Epoch 95/100\n",
            "119/119 [==============================] - 0s 150us/step - loss: 0.5550 - accuracy: 0.8908\n",
            "Epoch 96/100\n",
            "119/119 [==============================] - 0s 140us/step - loss: 0.5528 - accuracy: 0.8908\n",
            "Epoch 97/100\n",
            "119/119 [==============================] - 0s 134us/step - loss: 0.5500 - accuracy: 0.8908\n",
            "Epoch 98/100\n",
            "119/119 [==============================] - 0s 131us/step - loss: 0.5480 - accuracy: 0.8908\n",
            "Epoch 99/100\n",
            "119/119 [==============================] - 0s 137us/step - loss: 0.5455 - accuracy: 0.8908\n",
            "Epoch 100/100\n",
            "119/119 [==============================] - 0s 135us/step - loss: 0.5435 - accuracy: 0.8908\n"
          ],
          "name": "stdout"
        },
        {
          "output_type": "execute_result",
          "data": {
            "text/plain": [
              "<keras.callbacks.callbacks.History at 0x7f8a7b9f2240>"
            ]
          },
          "metadata": {
            "tags": []
          },
          "execution_count": 10
        }
      ]
    },
    {
      "cell_type": "code",
      "metadata": {
        "id": "_p6yilvas2kZ",
        "colab_type": "code",
        "colab": {}
      },
      "source": [
        "y_pred = model.predict(X_test)\n",
        "y_test_class = np.argmax(y_test,axis=1)\n",
        "y_pred_class = np.argmax(y_pred,axis=1)"
      ],
      "execution_count": 0,
      "outputs": []
    },
    {
      "cell_type": "code",
      "metadata": {
        "id": "WrgLET2Ns22J",
        "colab_type": "code",
        "outputId": "1ac6a52a-5106-4e4f-8aaf-419a894c1e84",
        "colab": {
          "base_uri": "https://localhost:8080/",
          "height": 238
        }
      },
      "source": [
        "from sklearn.metrics import classification_report,confusion_matrix\n",
        "print(classification_report(y_test_class,y_pred_class))\n",
        "print(confusion_matrix(y_test_class,y_pred_class))\n"
      ],
      "execution_count": 12,
      "outputs": [
        {
          "output_type": "stream",
          "text": [
            "              precision    recall  f1-score   support\n",
            "\n",
            "           0       1.00      1.00      1.00        12\n",
            "           1       1.00      0.80      0.89        10\n",
            "           2       0.80      1.00      0.89         8\n",
            "\n",
            "    accuracy                           0.93        30\n",
            "   macro avg       0.93      0.93      0.93        30\n",
            "weighted avg       0.95      0.93      0.93        30\n",
            "\n",
            "[[12  0  0]\n",
            " [ 0  8  2]\n",
            " [ 0  0  8]]\n"
          ],
          "name": "stdout"
        }
      ]
    }
  ]
}