{
  "nbformat": 4,
  "nbformat_minor": 0,
  "metadata": {
    "colab": {
      "name": "Regression_ANN_L1andL2.ipynb",
      "provenance": [],
      "collapsed_sections": [],
      "include_colab_link": true
    },
    "kernelspec": {
      "name": "python3",
      "display_name": "Python 3"
    }
  },
  "cells": [
    {
      "cell_type": "markdown",
      "metadata": {
        "id": "view-in-github",
        "colab_type": "text"
      },
      "source": [
        "<a href=\"https://colab.research.google.com/github/ravi-kr/DeepLearning/blob/master/Regression_ANN_L1andL2.ipynb\" target=\"_parent\"><img src=\"https://colab.research.google.com/assets/colab-badge.svg\" alt=\"Open In Colab\"/></a>"
      ]
    },
    {
      "cell_type": "code",
      "metadata": {
        "id": "DpydxBQfpLaD",
        "colab_type": "code",
        "outputId": "7c870d7e-4951-4823-c1d2-2400f3dbcbcf",
        "colab": {
          "base_uri": "https://localhost:8080/",
          "height": 445
        }
      },
      "source": [
        "# L1 = Lasso Regression\n",
        "# L2 = Ridge Regression\n",
        "import pandas as pd\n",
        "BHNames= ['crim','zn','indus','chas','nox','rm',\n",
        "         'age','dis','rad','tax','ptratio','black','lstat','medv']\n",
        "\n",
        "\n",
        "url='https://archive.ics.uci.edu/ml/machine-learning-databases/housing/housing.data'\n",
        "dataset = pd.read_csv(url, delim_whitespace=True, names=BHNames)\n",
        "\n",
        "print(dataset.head(20))\n",
        "\n",
        "\n",
        "'''\n",
        "CRIM: Per capita crime rate by town\n",
        "ZN: Proportion of residential land zoned for lots over 25,000 sq. ft\n",
        "INDUS: Proportion of non-retail business acres per town\n",
        "CHAS: Charles River dummy variable (= 1 if tract bounds river; 0 otherwise)\n",
        "NOX: Nitric oxide concentration (parts per 10 million)\n",
        "RM: Average number of rooms per dwelling\n",
        "AGE: Proportion of owner-occupied units built prior to 1940\n",
        "DIS: Weighted distances to five Boston employment centers\n",
        "RAD: Index of accessibility to radial highways\n",
        "TAX: Full-value property tax rate per $10,000\n",
        "PTRATIO: Pupil-teacher ratio by town\n",
        "B: 1000(Bk — 0.63)², where Bk is the proportion of [people of African American descent] by town\n",
        "LSTAT: Percentage of lower status of the population\n",
        "MEDV: Median value of owner-occupied homes in $1000s'''"
      ],
      "execution_count": 1,
      "outputs": [
        {
          "output_type": "stream",
          "text": [
            "       crim    zn  indus  chas    nox  ...    tax  ptratio   black  lstat  medv\n",
            "0   0.00632  18.0   2.31     0  0.538  ...  296.0     15.3  396.90   4.98  24.0\n",
            "1   0.02731   0.0   7.07     0  0.469  ...  242.0     17.8  396.90   9.14  21.6\n",
            "2   0.02729   0.0   7.07     0  0.469  ...  242.0     17.8  392.83   4.03  34.7\n",
            "3   0.03237   0.0   2.18     0  0.458  ...  222.0     18.7  394.63   2.94  33.4\n",
            "4   0.06905   0.0   2.18     0  0.458  ...  222.0     18.7  396.90   5.33  36.2\n",
            "5   0.02985   0.0   2.18     0  0.458  ...  222.0     18.7  394.12   5.21  28.7\n",
            "6   0.08829  12.5   7.87     0  0.524  ...  311.0     15.2  395.60  12.43  22.9\n",
            "7   0.14455  12.5   7.87     0  0.524  ...  311.0     15.2  396.90  19.15  27.1\n",
            "8   0.21124  12.5   7.87     0  0.524  ...  311.0     15.2  386.63  29.93  16.5\n",
            "9   0.17004  12.5   7.87     0  0.524  ...  311.0     15.2  386.71  17.10  18.9\n",
            "10  0.22489  12.5   7.87     0  0.524  ...  311.0     15.2  392.52  20.45  15.0\n",
            "11  0.11747  12.5   7.87     0  0.524  ...  311.0     15.2  396.90  13.27  18.9\n",
            "12  0.09378  12.5   7.87     0  0.524  ...  311.0     15.2  390.50  15.71  21.7\n",
            "13  0.62976   0.0   8.14     0  0.538  ...  307.0     21.0  396.90   8.26  20.4\n",
            "14  0.63796   0.0   8.14     0  0.538  ...  307.0     21.0  380.02  10.26  18.2\n",
            "15  0.62739   0.0   8.14     0  0.538  ...  307.0     21.0  395.62   8.47  19.9\n",
            "16  1.05393   0.0   8.14     0  0.538  ...  307.0     21.0  386.85   6.58  23.1\n",
            "17  0.78420   0.0   8.14     0  0.538  ...  307.0     21.0  386.75  14.67  17.5\n",
            "18  0.80271   0.0   8.14     0  0.538  ...  307.0     21.0  288.99  11.69  20.2\n",
            "19  0.72580   0.0   8.14     0  0.538  ...  307.0     21.0  390.95  11.28  18.2\n",
            "\n",
            "[20 rows x 14 columns]\n"
          ],
          "name": "stdout"
        },
        {
          "output_type": "execute_result",
          "data": {
            "text/plain": [
              "'\\nCRIM: Per capita crime rate by town\\nZN: Proportion of residential land zoned for lots over 25,000 sq. ft\\nINDUS: Proportion of non-retail business acres per town\\nCHAS: Charles River dummy variable (= 1 if tract bounds river; 0 otherwise)\\nNOX: Nitric oxide concentration (parts per 10 million)\\nRM: Average number of rooms per dwelling\\nAGE: Proportion of owner-occupied units built prior to 1940\\nDIS: Weighted distances to five Boston employment centers\\nRAD: Index of accessibility to radial highways\\nTAX: Full-value property tax rate per $10,000\\nPTRATIO: Pupil-teacher ratio by town\\nB: 1000(Bk — 0.63)², where Bk is the proportion of [people of African American descent] by town\\nLSTAT: Percentage of lower status of the population\\nMEDV: Median value of owner-occupied homes in $1000s'"
            ]
          },
          "metadata": {
            "tags": []
          },
          "execution_count": 1
        }
      ]
    },
    {
      "cell_type": "code",
      "metadata": {
        "id": "RMiYKr_jp722",
        "colab_type": "code",
        "outputId": "f5cb09b9-2351-405a-cc17-942a7f2ff385",
        "colab": {
          "base_uri": "https://localhost:8080/",
          "height": 51
        }
      },
      "source": [
        "from sklearn.model_selection import train_test_split\n",
        "\n",
        "X = dataset.drop('medv', axis = 1)\n",
        "print('X shape = ',X.shape)\n",
        "y = dataset['medv']\n",
        "print('y shape = ',y.shape)\n"
      ],
      "execution_count": 2,
      "outputs": [
        {
          "output_type": "stream",
          "text": [
            "X shape =  (506, 13)\n",
            "y shape =  (506,)\n"
          ],
          "name": "stdout"
        }
      ]
    },
    {
      "cell_type": "code",
      "metadata": {
        "id": "3bql01wWq32H",
        "colab_type": "code",
        "outputId": "e5d5876b-dc1c-40ce-9ee7-f59b951f7978",
        "colab": {
          "base_uri": "https://localhost:8080/",
          "height": 68
        }
      },
      "source": [
        "from sklearn import linear_model\n",
        "import matplotlib.pyplot as plt\n",
        "\n",
        "names = dataset.drop('medv', axis =1).columns\n",
        "print(names)"
      ],
      "execution_count": 3,
      "outputs": [
        {
          "output_type": "stream",
          "text": [
            "Index(['crim', 'zn', 'indus', 'chas', 'nox', 'rm', 'age', 'dis', 'rad', 'tax',\n",
            "       'ptratio', 'black', 'lstat'],\n",
            "      dtype='object')\n"
          ],
          "name": "stdout"
        }
      ]
    },
    {
      "cell_type": "code",
      "metadata": {
        "id": "5wUtPjbSsG83",
        "colab_type": "code",
        "colab": {}
      },
      "source": [
        "lasso = linear_model.Lasso(alpha=0.2)\n"
      ],
      "execution_count": 0,
      "outputs": []
    },
    {
      "cell_type": "code",
      "metadata": {
        "id": "ax6quoUMtkPP",
        "colab_type": "code",
        "colab": {}
      },
      "source": [
        "lasso_coef = lasso.fit(X,y).coef_\n"
      ],
      "execution_count": 0,
      "outputs": []
    },
    {
      "cell_type": "code",
      "metadata": {
        "id": "T0TO-n4qu7md",
        "colab_type": "code",
        "outputId": "83fedfc2-b404-45d4-ffbe-8056d23b645c",
        "colab": {
          "base_uri": "https://localhost:8080/",
          "height": 289
        }
      },
      "source": [
        "plt.plot(range(len(names)),lasso_coef )\n",
        "plt.xticks(range(len(names)), names, rotation=60)\n",
        "plt.ylabel(\"coefficient\")\n",
        "plt.show()"
      ],
      "execution_count": 6,
      "outputs": [
        {
          "output_type": "display_data",
          "data": {
            "image/png": "[encoded data removed]",
            "text/plain": [
              "<Figure size 432x288 with 1 Axes>"
            ]
          },
          "metadata": {
            "tags": [],
            "needs_background": "light"
          }
        }
      ]
    },
    {
      "cell_type": "code",
      "metadata": {
        "id": "8fiKe-cBu9r6",
        "colab_type": "code",
        "colab": {}
      },
      "source": [
        ""
      ],
      "execution_count": 0,
      "outputs": []
    },
    {
      "cell_type": "code",
      "metadata": {
        "id": "hoT_Av3gv0cE",
        "colab_type": "code",
        "colab": {}
      },
      "source": [
        ""
      ],
      "execution_count": 0,
      "outputs": []
    },
    {
      "cell_type": "code",
      "metadata": {
        "id": "H_ffHZlQwCn8",
        "colab_type": "code",
        "colab": {}
      },
      "source": [
        "#For Ridge\n",
        "from sklearn.preprocessing import StandardScaler\n",
        "scaler = StandardScaler()\n",
        "X_std = scaler.fit_transform(X)\n"
      ],
      "execution_count": 0,
      "outputs": []
    },
    {
      "cell_type": "code",
      "metadata": {
        "id": "lABoF1ZPwHUM",
        "colab_type": "code",
        "colab": {}
      },
      "source": [
        "from sklearn.linear_model import Ridge\n",
        "ridge = Ridge(alpha=0.4)\n",
        "\n"
      ],
      "execution_count": 0,
      "outputs": []
    },
    {
      "cell_type": "code",
      "metadata": {
        "id": "wGL6vMvMxFAL",
        "colab_type": "code",
        "colab": {}
      },
      "source": [
        "ridge_coef = ridge.fit(X_std,y).coef_"
      ],
      "execution_count": 0,
      "outputs": []
    },
    {
      "cell_type": "code",
      "metadata": {
        "id": "U0E_12wDSXjW",
        "colab_type": "code",
        "outputId": "fa3ca139-6394-4d6c-8862-cdd90691f36a",
        "colab": {
          "base_uri": "https://localhost:8080/",
          "height": 68
        }
      },
      "source": [
        "ridge_coef"
      ],
      "execution_count": 20,
      "outputs": [
        {
          "output_type": "execute_result",
          "data": {
            "text/plain": [
              "array([-0.92479075,  1.07544447,  0.13131016,  0.6831216 , -2.0455324 ,\n",
              "        2.67769517,  0.01690549, -3.09330628,  2.63345612, -2.04976823,\n",
              "       -2.05728754,  0.84910107, -3.7384114 ])"
            ]
          },
          "metadata": {
            "tags": []
          },
          "execution_count": 20
        }
      ]
    },
    {
      "cell_type": "code",
      "metadata": {
        "id": "gSGXG63ZSZOT",
        "colab_type": "code",
        "colab": {
          "base_uri": "https://localhost:8080/",
          "height": 289
        },
        "outputId": "c07c1c5b-88a5-44d8-d796-53795dc205c8"
      },
      "source": [
        "plt.plot(range(len(names)),ridge_coef )\n",
        "plt.xticks(range(len(names)), names, rotation=60)\n",
        "plt.ylabel(\"coefficient\")\n",
        "plt.show()"
      ],
      "execution_count": 21,
      "outputs": [
        {
          "output_type": "display_data",
          "data": {
            "image/png": "[encoded data removed]",
            "text/plain": [
              "<Figure size 432x288 with 1 Axes>"
            ]
          },
          "metadata": {
            "tags": [],
            "needs_background": "light"
          }
        }
      ]
    },
    {
      "cell_type": "code",
      "metadata": {
        "id": "Yw-PNnunyXxY",
        "colab_type": "code",
        "colab": {}
      },
      "source": [
        ""
      ],
      "execution_count": 0,
      "outputs": []
    }
  ]
}